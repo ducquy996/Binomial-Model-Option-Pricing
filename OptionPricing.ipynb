{
 "cells": [
  {
   "cell_type": "code",
   "execution_count": 1,
   "metadata": {
    "collapsed": true
   },
   "outputs": [],
   "source": [
    "import pandas as pd\n",
    "import numpy as np\n",
    "import math \n",
    "from math import factorial\n",
    "from scipy.stats import norm\n",
    "import matplotlib.pyplot as plt\n",
    "def calculate_combinations(n, r):\n",
    "    return factorial(n) // factorial(r) // factorial(n-r)\n"
   ]
  },
  {
   "cell_type": "code",
   "execution_count": 2,
   "metadata": {
    "collapsed": true
   },
   "outputs": [],
   "source": [
    "#Build probability matrix\n",
    "def Prob(Maturity,N,So,r,se):\n",
    "    T = Maturity/N\n",
    "    u= math.exp( se * math.sqrt(T))\n",
    "    d= math.exp( - se * math.sqrt(T))\n",
    "    p = (math.exp(r*T)-d)/(u-d) \n",
    "    result = np.zeros((N+1,N+1))\n",
    "    for i in range(N+1):\n",
    "        for j in range(i+1):\n",
    "            result[i,j] = calculate_combinations(i,j)*(1-p)**j * p**(i-j)\n",
    "    return result"
   ]
  },
  {
   "cell_type": "code",
   "execution_count": 3,
   "metadata": {
    "collapsed": true
   },
   "outputs": [],
   "source": [
    "#Build stock price matrix\n",
    "def St(Maturity,N,So,r,se):\n",
    "    T=Maturity/N\n",
    "    u= math.exp( se * math.sqrt(T))\n",
    "    d= math.exp( - se * math.sqrt(T))\n",
    "    p = (math.exp(r*T)-d)/(u-d) \n",
    "    result = np.zeros((N+1,N+1))\n",
    "    for i in range(N+1):\n",
    "        for j in range(i+1):\n",
    "            result[i,j] = So*(d**j)*(u**(i-j))\n",
    "    return result"
   ]
  },
  {
   "cell_type": "code",
   "execution_count": 4,
   "metadata": {
    "collapsed": true
   },
   "outputs": [],
   "source": [
    "#Define value of Euro option\n",
    "def Val_call(K, Maturity,N,So,r,se):\n",
    "    Stockprice = St(Maturity, N,So,r,se)\n",
    "    Value = np.zeros((N+1,N+1))\n",
    "    Probability = Prob(Maturity,N,So,r,se)\n",
    "    for i in range(N+1):\n",
    "        for j in range(i+1):\n",
    "            Value[i,j] = max(Stockprice[i,j]-K, 0)\n",
    "    return Value\n",
    "def Val_put(K, Maturity,N,So,r,se):\n",
    "    Stockprice = St(Maturity, N,So,r,se)\n",
    "    Value = np.zeros((N+1,N+1))\n",
    "    Probability = Prob(Maturity,N,So,r,se)\n",
    "    for i in range(N+1):\n",
    "        for j in range(i+1):\n",
    "            Value[i,j] = max(-Stockprice[i,j]+K, 0)\n",
    "    return Value"
   ]
  },
  {
   "cell_type": "markdown",
   "metadata": {},
   "source": [
    "# Euro option pricing"
   ]
  },
  {
   "cell_type": "code",
   "execution_count": 5,
   "metadata": {
    "collapsed": true
   },
   "outputs": [],
   "source": [
    "def Eu_call(K,Maturity,N,So,r,se):\n",
    "    result = np.dot(Prob(Maturity,N,So,r,se)[N,:],Val_call(K,Maturity,N,So,r,se)[N,:])*math.exp(-r*Maturity)\n",
    "    return result\n",
    "def Eu_put(K,Maturity,N,So,r,se):\n",
    "    result = np.dot(Prob(Maturity,N,So,r,se)[N,:],Val_put(K,Maturity,N,So,r,se)[N,:])*math.exp(-r*Maturity)\n",
    "    return result"
   ]
  },
  {
   "cell_type": "markdown",
   "metadata": {
    "collapsed": true
   },
   "source": [
    "# American Option Pricing"
   ]
  },
  {
   "cell_type": "code",
   "execution_count": 1,
   "metadata": {
    "collapsed": true
   },
   "outputs": [],
   "source": [
    "def Ame_Value_call(K, Maturity,N,So,r,se):\n",
    "    T = Maturity/N\n",
    "    u= math.exp( se * math.sqrt(T))\n",
    "    d= math.exp( - se * math.sqrt(T))\n",
    "    p = (math.exp(r*T)-d)/(u-d)\n",
    "    Stockprice = St(Maturity, N,So,r,se)\n",
    "    Value = np.zeros((N+1,N+1))\n",
    "    Eu_Val = Val_call(K, Maturity,N,So,r,se)\n",
    "    Probability = Prob(Maturity,N,So,r,se)\n",
    "    for i in range(N+1):\n",
    "        Value[N,i] = max(Stockprice[N,i]-K, 0)\n",
    "    for i in range(N):\n",
    "        for j in range(N-1):\n",
    "            Value[N-1-i,j]=max(Eu_Val[N-1-i,j], np.exp(-r*T/N)*(Value[N-i,j]*p+Value[N-i,j+1]*(1-p)))\n",
    "    result = Value[0,0]\n",
    "    return result\n",
    "def Ame_Value_put(K, Maturity,N,So,r,se):\n",
    "    T = Maturity/N\n",
    "    u= math.exp( se * math.sqrt(T))\n",
    "    d= math.exp( - se * math.sqrt(T))\n",
    "    p = (math.exp(r*T)-d)/(u-d)\n",
    "    Stockprice = St(Maturity, N,So,r,se)\n",
    "    Eu_Val = Val_put(K, Maturity,N,So,r,se)\n",
    "    Value = np.zeros((N+1,N+1))\n",
    "    Probability = Prob(Maturity,N,So,r,se)\n",
    "    for i in range(N+1):\n",
    "        Value[N,i] = max(-Stockprice[N,i]+K, 0)\n",
    "    for i in range(N):\n",
    "        for j in range(N-i):\n",
    "            Value[N-1-i,j]=max(Eu_Val[N-1-i,j], np.exp(-r*T/N)*(Value[N-i,j]*(p)+Value[N-i,j+1]*(1-p)))\n",
    "    result = Value[0,0]\n",
    "    return result\n"
   ]
  },
  {
   "cell_type": "code",
   "execution_count": null,
   "metadata": {
    "collapsed": true
   },
   "outputs": [],
   "source": []
  }
 ],
 "metadata": {
  "kernelspec": {
   "display_name": "Python 3",
   "language": "python",
   "name": "python3"
  },
  "language_info": {
   "codemirror_mode": {
    "name": "ipython",
    "version": 3
   },
   "file_extension": ".py",
   "mimetype": "text/x-python",
   "name": "python",
   "nbconvert_exporter": "python",
   "pygments_lexer": "ipython3",
   "version": "3.6.3"
  }
 },
 "nbformat": 4,
 "nbformat_minor": 2
}
